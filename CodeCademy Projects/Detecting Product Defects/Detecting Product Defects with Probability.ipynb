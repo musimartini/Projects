{
 "cells": [
  {
   "cell_type": "markdown",
   "id": "e4c5feb1",
   "metadata": {},
   "source": [
    "You are in charge of monitoring the number of defective products from a specific factory. You’ve been told that the number of defects on a given day follows the Poisson distribution with the rate parameter (lambda) equal to 7. You’re new here, so you want to get a feel for what it means to follow the Poisson(7) distribution. You remember that the Poisson distribution is special because the rate parameter represents the expected value of the distribution, so in this case, the expected value of the Poisson(7) distribution is 7 defects per day.\n",
    "\n",
    "You will investigate certain attributes of the Poisson(7) distribution to get an intuition for how many defective objects you should expect to see in a given amount of time. You will also practice and apply what you know about the Poisson distribution on a practice data set that you will simulate yourself."
   ]
  },
  {
   "cell_type": "code",
   "execution_count": 1,
   "id": "3d88b3ea",
   "metadata": {},
   "outputs": [],
   "source": [
    "import scipy.stats as stats\n",
    "import numpy as np"
   ]
  },
  {
   "cell_type": "markdown",
   "id": "c9e6d508",
   "metadata": {},
   "source": [
    "# Distribution in Theory"
   ]
  },
  {
   "cell_type": "markdown",
   "id": "68ad1d06",
   "metadata": {},
   "source": [
    "1. Create a variable called `lam` that represents the rate parameter of our distribution"
   ]
  },
  {
   "cell_type": "code",
   "execution_count": 2,
   "id": "1a9ceeb6",
   "metadata": {},
   "outputs": [],
   "source": [
    "lam = 7"
   ]
  },
  {
   "cell_type": "markdown",
   "id": "d2c43921",
   "metadata": {},
   "source": [
    "2. You know that the rate parameter of a Poisson distribution is equal to the expected value. So in our factory, the rate parameter would equal the expected number of defects on a given day. You are curious about how often we might observe the exact expected number of defects. Calculate and print the probability of observing exactly lam defects on a given day."
   ]
  },
  {
   "cell_type": "code",
   "execution_count": 3,
   "id": "52b23d92",
   "metadata": {},
   "outputs": [
    {
     "name": "stdout",
     "output_type": "stream",
     "text": [
      "0.14900277967433773\n"
     ]
    }
   ],
   "source": [
    "expected_prob = stats.poisson.pmf(lam,lam)\n",
    "print(expected_prob)"
   ]
  },
  {
   "cell_type": "markdown",
   "id": "f2aa0293",
   "metadata": {},
   "source": [
    "3. Our boss said that having 4 or fewer defects on a given day is an exceptionally good day. You are curious about how often that might happen. Calculate and print the probability of having one of these days."
   ]
  },
  {
   "cell_type": "code",
   "execution_count": 4,
   "id": "5672b909",
   "metadata": {},
   "outputs": [
    {
     "name": "stdout",
     "output_type": "stream",
     "text": [
      "0.17299160788207146\n"
     ]
    }
   ],
   "source": [
    "four_or_fewer_defects_prob = stats.poisson.cdf(4,lam)\n",
    "print(four_or_fewer_defects_prob)"
   ]
  },
  {
   "cell_type": "markdown",
   "id": "b9c93518",
   "metadata": {},
   "source": [
    "4. On the other hand, our boss said that having more than 9 defects on any given day is considered a bad day. Calculate and print the probability of having one of these bad days."
   ]
  },
  {
   "cell_type": "code",
   "execution_count": 5,
   "id": "fe480f26",
   "metadata": {},
   "outputs": [
    {
     "name": "stdout",
     "output_type": "stream",
     "text": [
      "0.16950406276132668\n"
     ]
    }
   ],
   "source": [
    "more_than_nine_defects_prob = 1 - stats.poisson.cdf(9,lam)\n",
    "print(more_than_nine_defects_prob)"
   ]
  },
  {
   "cell_type": "markdown",
   "id": "a4200c24",
   "metadata": {},
   "source": [
    "# Distribution in Practice"
   ]
  },
  {
   "cell_type": "markdown",
   "id": "8d83c9ee",
   "metadata": {},
   "source": [
    "5. You’ve familiarized yourself a little bit about how the Poisson distribution works in theory by calculating different probabilities. But let’s look at what this might look like in practice. Create a variable called `year_defects` that has 365 random values from the Poisson distribution."
   ]
  },
  {
   "cell_type": "code",
   "execution_count": 6,
   "id": "9f3b17b6",
   "metadata": {},
   "outputs": [],
   "source": [
    "year_defects = stats.poisson.rvs(lam,size=365)"
   ]
  },
  {
   "cell_type": "markdown",
   "id": "65eb03a5",
   "metadata": {},
   "source": [
    "6. Let’s take a look at our new dataset. Print the first 20 values in this data set."
   ]
  },
  {
   "cell_type": "code",
   "execution_count": 7,
   "id": "c8d64409",
   "metadata": {},
   "outputs": [
    {
     "name": "stdout",
     "output_type": "stream",
     "text": [
      "[ 8 14  5  3  7  4  8  8 11  4  7  3 14 10  8  8 12  5  9  2]\n"
     ]
    }
   ],
   "source": [
    "print(year_defects[:20])"
   ]
  },
  {
   "cell_type": "markdown",
   "id": "3568562a",
   "metadata": {},
   "source": [
    "7. If we expect 7 defects on a given day, what is the total number of defects we would expect over 365 days? Calculate and print this value to the output terminal."
   ]
  },
  {
   "cell_type": "code",
   "execution_count": 8,
   "id": "194346a3",
   "metadata": {},
   "outputs": [
    {
     "name": "stdout",
     "output_type": "stream",
     "text": [
      "2555\n"
     ]
    }
   ],
   "source": [
    "expected_year_defects = lam*365\n",
    "print(expected_year_defects)"
   ]
  },
  {
   "cell_type": "markdown",
   "id": "bf62cb09",
   "metadata": {},
   "source": [
    "8. Calculate and print the total sum of the data set year_defects. How does this compare to the total number of defects we expected over 365 days?"
   ]
  },
  {
   "cell_type": "code",
   "execution_count": 9,
   "id": "87d7da69",
   "metadata": {},
   "outputs": [
    {
     "name": "stdout",
     "output_type": "stream",
     "text": [
      "2625\n"
     ]
    }
   ],
   "source": [
    "print(sum(year_defects))"
   ]
  },
  {
   "cell_type": "markdown",
   "id": "d343d242",
   "metadata": {},
   "source": [
    "9. Calculate and print the average number of defects per day from our simulated dataset. How does this compare to the expected average number of defects each day that we know from the given rate parameter of the Poisson distribution?"
   ]
  },
  {
   "cell_type": "code",
   "execution_count": 10,
   "id": "baa42a37",
   "metadata": {},
   "outputs": [
    {
     "name": "stdout",
     "output_type": "stream",
     "text": [
      "7.191780821917808\n"
     ]
    }
   ],
   "source": [
    "average_defects_per_day = np.mean(year_defects)\n",
    "print(average_defects_per_day)"
   ]
  },
  {
   "cell_type": "markdown",
   "id": "214067b4",
   "metadata": {},
   "source": [
    "10. You’re worried about what the highest amount of defects in a single day might be because that would be a hectic day. Print the maximum value of year_defects."
   ]
  },
  {
   "cell_type": "code",
   "execution_count": 11,
   "id": "370939f8",
   "metadata": {},
   "outputs": [
    {
     "name": "stdout",
     "output_type": "stream",
     "text": [
      "16\n"
     ]
    }
   ],
   "source": [
    "max_defects = max(year_defects)\n",
    "print(max_defects)"
   ]
  },
  {
   "cell_type": "markdown",
   "id": "0e0f8985",
   "metadata": {},
   "source": [
    "11. Wow, it would probably be super busy if there were that many defects on a single day. Hopefully, it is a rare event! Calculate and print the probability of observing that maximum value or more from the Poisson(7) distribution."
   ]
  },
  {
   "cell_type": "code",
   "execution_count": 12,
   "id": "ffa238cb",
   "metadata": {},
   "outputs": [
    {
     "name": "stdout",
     "output_type": "stream",
     "text": [
      "0.0014483971884803554\n",
      "0.0024065803473980463\n"
     ]
    }
   ],
   "source": [
    "exact_max_defects_prob = stats.poisson.pmf(max_defects,lam)\n",
    "print(exact_max_defects_prob)\n",
    "\n",
    "max_defects_or_more_prob = 1-stats.poisson.cdf(max_defects-1,lam)\n",
    "print(max_defects_or_more_prob)"
   ]
  },
  {
   "cell_type": "markdown",
   "id": "edf08e26",
   "metadata": {},
   "source": [
    "*Different values of the probabilities suggests that there's posibble bigger number of defects than our maximum value (first value is the probability of observing that exact maximum value, second value is the probability of observing that maximum value or more).*"
   ]
  },
  {
   "cell_type": "markdown",
   "id": "ba0f5c95",
   "metadata": {},
   "source": [
    "# Extra"
   ]
  },
  {
   "cell_type": "markdown",
   "id": "e3428e4d",
   "metadata": {},
   "source": [
    "12. Congratulations! At this point, you have now explored the Poisson distribution and even worked with some simulated data. We have a couple of extra tasks if you would like an extra challenge. Let’s say we want to know how many defects in a given day would put us in the 90th percentile of the Poisson(7) distribution. One way we could calculate this is by using the following method: `stats.poisson.ppf(percentile, lambda)` where `percentile` is equal to the desired percentile (a decimal between 0 and 1), and lambda is the lambda parameter of the Poisson distribution. This function is essentially the inverse of the CDF. Use this method to calculate and print the number of defects that would put us in the 90th percentile for a given day. In other words, on 90% of days, we will observe fewer defects than this number."
   ]
  },
  {
   "cell_type": "code",
   "execution_count": 13,
   "id": "1b664ddf",
   "metadata": {},
   "outputs": [
    {
     "name": "stdout",
     "output_type": "stream",
     "text": [
      "10.0\n"
     ]
    }
   ],
   "source": [
    "percentile = 0.9\n",
    "defects_in_90th_percentile = stats.poisson.ppf(percentile, lam)\n",
    "print(defects_in_90th_percentile)"
   ]
  },
  {
   "cell_type": "markdown",
   "id": "b94213d8",
   "metadata": {},
   "source": [
    "13. Now let’s see what proportion of our simulated dataset `year_defects` is greater than or equal to the number we calculated in the previous step. By definition of a percentile, we would expect 1 - .90, or about 10% of days to be in this range."
   ]
  },
  {
   "cell_type": "code",
   "execution_count": 14,
   "id": "7b5dabff",
   "metadata": {},
   "outputs": [
    {
     "name": "stdout",
     "output_type": "stream",
     "text": [
      "0.11232876712328767\n"
     ]
    }
   ],
   "source": [
    "above_90th_percentile = [x for x in year_defects if x>defects_in_90th_percentile]\n",
    "calculated_percentile = len(above_90th_percentile)/len(year_defects)\n",
    "print(calculated_percentile)"
   ]
  }
 ],
 "metadata": {
  "kernelspec": {
   "display_name": "Python 3 (ipykernel)",
   "language": "python",
   "name": "python3"
  },
  "language_info": {
   "codemirror_mode": {
    "name": "ipython",
    "version": 3
   },
   "file_extension": ".py",
   "mimetype": "text/x-python",
   "name": "python",
   "nbconvert_exporter": "python",
   "pygments_lexer": "ipython3",
   "version": "3.9.12"
  }
 },
 "nbformat": 4,
 "nbformat_minor": 5
}
